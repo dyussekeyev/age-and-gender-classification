{
  "nbformat": 4,
  "nbformat_minor": 0,
  "metadata": {
    "colab": {
      "name": "classification_train_demo.ipynb",
      "provenance": [],
      "collapsed_sections": []
    },
    "kernelspec": {
      "display_name": "Python 3",
      "name": "python3"
    },
    "language_info": {
      "name": "python"
    }
  },
  "cells": [
    {
      "cell_type": "markdown",
      "metadata": {
        "id": "OvReY05IiAhb"
      },
      "source": [
        "# Parameters"
      ]
    },
    {
      "cell_type": "code",
      "metadata": {
        "id": "w-xanNnjV7QA"
      },
      "source": [
        "# what fold to use\n",
        "# 1 - original fold 1\n",
        "# 10 - oversampled fold 1\n",
        "# 11 - sampled using DCGAN fold 1\n",
        "my_fold = 11\n",
        "my_type = 'age'"
      ],
      "execution_count": null,
      "outputs": []
    },
    {
      "cell_type": "code",
      "metadata": {
        "id": "UMkV-doahIEq"
      },
      "source": [
        "PATH_TO_FOLDS = \"/content/ds/train_val_txt_files_per_fold\"\n",
        "PATH_TO_DATA = \"/content/ds\"\n",
        "PATH_TO_IMAGE_FOLDERS = PATH_TO_DATA + \"/aligned\"\n",
        "PATH_TO_MODELS = \"/content/ds/models\""
      ],
      "execution_count": null,
      "outputs": []
    },
    {
      "cell_type": "code",
      "metadata": {
        "id": "6rrXjfEOiLU9"
      },
      "source": [
        "minibatch_size = 50\n",
        "num_epochs = 20\n",
        "lr = 0.0001"
      ],
      "execution_count": null,
      "outputs": []
    },
    {
      "cell_type": "markdown",
      "metadata": {
        "id": "qWswOGbmftp5"
      },
      "source": [
        "# Download dataset and supplementary data\n"
      ]
    },
    {
      "cell_type": "code",
      "metadata": {
        "id": "VNdf_NWFW_25"
      },
      "source": [
        "$username = 'adiencedb'\n",
        "$password = 'XXX'"
      ],
      "execution_count": null,
      "outputs": []
    },
    {
      "cell_type": "code",
      "metadata": {
        "id": "tPKs2gH9TEXv"
      },
      "source": [
        "url_ds = 'http://' + username + ':' + password + '@www.cslab.openu.ac.il/download/adiencedb/AdienceBenchmarkOfUnfilteredFacesForGenderAndAgeClassification/aligned.tar.gz'\n",
        "url_gen1 = 'https://github.com/dyussekeyev/age-and-gender-classification/raw/main/generated/generated1.zip'\n",
        "url_gen1 = 'https://github.com/dyussekeyev/age-and-gender-classification/raw/main/generated/generated2.zip'\n",
        "url_folds = 'https://github.com/dyussekeyev/age-and-gender-classification/raw/main/by-age/train_val_txt_files_per_fold.zip'\n",
        "\n",
        "!mkdir /content/ds/\n",
        "!mkdir /content/ds/models/\n",
        "\n",
        "!wget $url_ds\n",
        "!wget $url_gen1\n",
        "!wget $url_gen2\n",
        "!wget $url_folds\n",
        "\n",
        "!tar -xzf \"/content/aligned.tar.gz\" -C \"/content/ds/\"\n",
        "!unzip \"/content/generated1.zip\" -d \"/content/ds/aligned\"\n",
        "!unzip \"/content/generated2.zip\" -d \"/content/ds/aligned\"\n",
        "!unzip \"/content/train_val_txt_files_per_fold.zip\" -d \"/content/ds\""
      ],
      "execution_count": null,
      "outputs": []
    },
    {
      "cell_type": "markdown",
      "metadata": {
        "id": "cjArkza8fxnv"
      },
      "source": [
        "# Imports"
      ]
    },
    {
      "cell_type": "code",
      "metadata": {
        "id": "hT1L1Bisfyqx"
      },
      "source": [
        "import torch\n",
        "import torch.autograd.variable as Variable\n",
        "import torchvision\n",
        "import torchvision.transforms as transforms\n",
        "import torch.optim as optim\n",
        "import torch.nn as nn\n",
        "import torch.nn.functional as F\n",
        "import torchvision.utils as utils\n",
        "from torch.utils.data import Dataset, DataLoader"
      ],
      "execution_count": null,
      "outputs": []
    },
    {
      "cell_type": "code",
      "metadata": {
        "id": "LtDctK6Qf0v-"
      },
      "source": [
        "import numpy as np\n",
        "import os\n",
        "import matplotlib.pyplot as plt\n",
        "from PIL import Image\n",
        "from shutil import copyfile"
      ],
      "execution_count": null,
      "outputs": []
    },
    {
      "cell_type": "markdown",
      "metadata": {
        "id": "klD2c4M1hDBH"
      },
      "source": [
        "# Load Dataset"
      ]
    },
    {
      "cell_type": "code",
      "metadata": {
        "id": "XKz5wsgchMA3"
      },
      "source": [
        "class AdienceDataset(Dataset):    \n",
        "    def __init__(self, txt_file, root_dir, transform):\n",
        "        self.txt_file = txt_file\n",
        "        self.root_dir = root_dir\n",
        "        self.transform = transform\n",
        "        self.data = self.read_from_txt_file()\n",
        "    \n",
        "    def __len__(self):\n",
        "        return len(self.data)\n",
        "\n",
        "    def read_from_txt_file(self):\n",
        "        data = []\n",
        "        f = open(self.txt_file)\n",
        "        for line in f.readlines():\n",
        "            image_file, label = line.split()\n",
        "            label = int(label)\n",
        "            if 'gender' in self.txt_file:\n",
        "                label += 8\n",
        "            data.append((image_file, label))\n",
        "        return data\n",
        "    \n",
        "    def __getitem__(self, idx):\n",
        "        img_name, label = self.data[idx]\n",
        "        image = Image.open(self.root_dir + '/' + img_name)\n",
        "        \n",
        "        if self.transform:\n",
        "            image = self.transform(image)\n",
        "            \n",
        "        return {\n",
        "            'image': image,\n",
        "            'label': label\n",
        "        }"
      ],
      "execution_count": null,
      "outputs": []
    },
    {
      "cell_type": "code",
      "metadata": {
        "id": "BLOjeeRZhfwn"
      },
      "source": [
        "transforms_list = [\n",
        "    transforms.Resize(64),\n",
        "    transforms.CenterCrop(60),\n",
        "    transforms.RandomHorizontalFlip(),\n",
        "    transforms.ToTensor(),\n",
        "    transforms.RandomCrop(60)\n",
        "]\n",
        "\n",
        "transforms_dict = {\n",
        "    'train': {\n",
        "        0: list(transforms_list[i] for i in [0, 1, 3]),        # no transformation\n",
        "        1: list(transforms_list[i] for i in [0, 1, 2, 3]),     # random horizontal flip\n",
        "        2: list(transforms_list[i] for i in [0, 4, 2, 3])      # random crop and random horizontal flip\n",
        "    },\n",
        "    'val': {\n",
        "        0: list(transforms_list[i] for i in [0, 1, 3])\n",
        "    },\n",
        "    'test': {\n",
        "        0: list(transforms_list[i] for i in [0, 1, 3])\n",
        "    }\n",
        "}"
      ],
      "execution_count": null,
      "outputs": []
    },
    {
      "cell_type": "code",
      "metadata": {
        "id": "eSrbyveIhkQs"
      },
      "source": [
        "def get_dataloader(s, c, fold, transform_index, minibatch_size):\n",
        "    txt_file = f'{PATH_TO_FOLDS}/test_fold_is_{fold}/{c}_{s}.txt'\n",
        "    root_dir = PATH_TO_IMAGE_FOLDERS\n",
        "    \n",
        "    transformed_dataset = AdienceDataset(txt_file, root_dir,\n",
        "                                         transforms.Compose(transforms_dict[s][transform_index]))\n",
        "    dataloader = DataLoader(transformed_dataset, batch_size=minibatch_size, shuffle=True, num_workers=2)\n",
        "    \n",
        "    return dataloader"
      ],
      "execution_count": null,
      "outputs": []
    },
    {
      "cell_type": "markdown",
      "metadata": {
        "id": "oDKOxaZkhrK0"
      },
      "source": [
        "# Model"
      ]
    },
    {
      "cell_type": "code",
      "metadata": {
        "id": "VoM4VR7IhsFI"
      },
      "source": [
        "device = torch.device('cuda:0' if torch.cuda.is_available() else 'cpu')"
      ],
      "execution_count": null,
      "outputs": []
    },
    {
      "cell_type": "code",
      "metadata": {
        "id": "pJIQfQA1iFwJ"
      },
      "source": [
        "class Net(nn.Module):\n",
        "    \n",
        "    def __init__(self):\n",
        "        super(Net, self).__init__()\n",
        "        \n",
        "        self.conv1 = nn.Conv2d(3, 96, 7, stride = 4, padding = 1)\n",
        "        self.pool1 = nn.MaxPool2d(3, stride = 2, padding = 1)\n",
        "        self.norm1 = nn.LocalResponseNorm(size = 5, alpha = 0.0001, beta = 0.75)\n",
        "        \n",
        "        self.conv2 = nn.Conv2d(96, 256, 5, stride = 1, padding = 2)\n",
        "        self.pool2 = nn.MaxPool2d(3, stride = 2, padding = 1)\n",
        "        self.norm2 = nn.LocalResponseNorm(size = 5, alpha = 0.0001, beta = 0.75)\n",
        "        \n",
        "        self.conv3 = nn.Conv2d(256, 384, 3, stride = 1, padding = 1)\n",
        "        self.pool3 = nn.MaxPool2d(3, stride = 2, padding = 1)\n",
        "        self.norm3 = nn.LocalResponseNorm(size = 5, alpha = 0.0001, beta = 0.75)\n",
        "        \n",
        "        self.fc1 = nn.Linear(1536, 512)\n",
        "        self.dropout1 = nn.Dropout(0.5)\n",
        "\n",
        "        self.fc2 = nn.Linear(512, 512)\n",
        "        self.dropout2 = nn.Dropout(0.5)\n",
        "  \n",
        "        self.fc3 = nn.Linear(512, 10)\n",
        "    \n",
        "        self.apply(weights_init)\n",
        "\n",
        "    \n",
        "    def forward(self, x):\n",
        "        x = F.leaky_relu(self.conv1(x))\n",
        "        x = self.pool1(x)\n",
        "        x = self.norm1(x)\n",
        "\n",
        "        x = F.leaky_relu(self.conv2(x))\n",
        "        x = self.pool2(x)\n",
        "        x = self.norm2(x)\n",
        "      \n",
        "        x = F.leaky_relu(self.conv3(x))\n",
        "        x = self.pool3(x)\n",
        "        x = self.norm3(x)\n",
        "      \n",
        "        x = x.view(-1, 1536)\n",
        "        \n",
        "        x = self.fc1(x)\n",
        "        x = F.leaky_relu(x)\n",
        "        x = self.dropout1(x)\n",
        "      \n",
        "        x = self.fc2(x)\n",
        "        x = F.leaky_relu(x)\n",
        "        x = self.dropout2(x)\n",
        "      \n",
        "        x = F.log_softmax(self.fc3(x), dim=1)\n",
        "  \n",
        "        return x\n"
      ],
      "execution_count": null,
      "outputs": []
    },
    {
      "cell_type": "code",
      "metadata": {
        "id": "2pJ-m0xziHfd"
      },
      "source": [
        "def weights_init(m):\n",
        "    if isinstance(m, nn.Conv2d) or isinstance(m, nn.Linear):\n",
        "        nn.init.normal_(m.weight, mean=0, std=1e-2)"
      ],
      "execution_count": null,
      "outputs": []
    },
    {
      "cell_type": "code",
      "metadata": {
        "id": "zCpaZ82qiIzI"
      },
      "source": [
        "criterion = nn.NLLLoss()"
      ],
      "execution_count": null,
      "outputs": []
    },
    {
      "cell_type": "markdown",
      "metadata": {
        "id": "SdoR11uiiO80"
      },
      "source": [
        "# Train"
      ]
    },
    {
      "cell_type": "code",
      "metadata": {
        "id": "LzMhiuEZiP4i"
      },
      "source": [
        "def train(net, train_dataloader, epochs, filename, checkpoint_frequency, val_dataloader=None):\n",
        "    \"\"\"\n",
        "    Args:\n",
        "        net: An instance of PyTorch's Net class.\n",
        "        train_dataloader: An instance of PyTorch's Dataloader class.\n",
        "        epochs: An integer.\n",
        "        filename: A string. Name of the model saved to drive.\n",
        "        checkpoint_frequency: An integer. Represents how frequent (in terms\n",
        "            of number of iterations) the model should be saved to drive.\n",
        "        val_dataloader: An instance of PyTorch's Dataloader class.\n",
        "    \n",
        "    Returns:\n",
        "        net: An instance of PyTorch's Net class. The trained network.\n",
        "        training_loss: A list of numbers that represents the training loss at each checkpoint.\n",
        "        validation_loss: A list of numbers that represents the validation loss at each checkpoint.\n",
        "    \"\"\"\n",
        "    net.train()\n",
        "    optimizer = optim.Adam(net.parameters(), lr)\n",
        "    scheduler = optim.lr_scheduler.MultiStepLR(optimizer, milestones=[10000])\n",
        "    \n",
        "    training_loss, validation_loss = [], []\n",
        "    checkpoint = 0\n",
        "    iteration = 0\n",
        "    running_loss = 0\n",
        "    \n",
        "    for epoch in range(epochs):\n",
        "\n",
        "        for i, batch in enumerate(train_dataloader):\n",
        "            #scheduler.step()\n",
        "            optimizer.zero_grad()\n",
        "            images, labels = batch['image'].to(device), batch['label'].to(device)\n",
        "            outputs = net(images)\n",
        "            loss = criterion(outputs, labels)\n",
        "            running_loss += float(loss.item())\n",
        "            loss.backward()\n",
        "            optimizer.step()\n",
        "            scheduler.step() # added due to warning of PyTorch >1.1.0\n",
        "\n",
        "            if (iteration+1) % checkpoint_frequency == 0 and val_dataloader is not None:\n",
        "                training_loss.append(running_loss/checkpoint_frequency)\n",
        "                validation_loss.append(validate(net, val_dataloader))\n",
        "                print(f'minibatch:{i}, epoch:{epoch}, iteration:{iteration}, training_error:{training_loss[-1]}, validation_error:{validation_loss[-1]}')\n",
        "                save_network(net, f'{filename}_checkpoint{checkpoint}')\n",
        "                checkpoint += 1\n",
        "                running_loss = 0\n",
        "            \n",
        "            iteration += 1\n",
        "\n",
        "    return net, training_loss, validation_loss\n"
      ],
      "execution_count": null,
      "outputs": []
    },
    {
      "cell_type": "markdown",
      "metadata": {
        "id": "I3L_upLwiRXM"
      },
      "source": [
        "# Validate"
      ]
    },
    {
      "cell_type": "code",
      "metadata": {
        "id": "H63Y2nKEiSWk"
      },
      "source": [
        "def validate(net, dataloader):\n",
        "    net.train()\n",
        "    total_loss = 0\n",
        "    with torch.no_grad():\n",
        "        for i, batch in enumerate(dataloader):\n",
        "            images, labels = batch['image'].to(device), batch['label'].to(device)\n",
        "            outputs = net(images)\n",
        "            loss = criterion(outputs, labels)\n",
        "            total_loss += float(loss.item())\n",
        "\n",
        "    return total_loss/(i+1)\n"
      ],
      "execution_count": null,
      "outputs": []
    },
    {
      "cell_type": "code",
      "metadata": {
        "id": "ahAkeuBEiT1u"
      },
      "source": [
        "def get_validation_error(c, fold, train_transform_index):\n",
        "    filename = get_model_filename(c, fold, train_transform_index)\n",
        "    net = Net().to(device)\n",
        "    net.load_state_dict(torch.load(f'{PATH_TO_MODELS}/{filename}'))\n",
        "    return validate(net, get_dataloader('val', c, fold, 0, minibatch_size))\n"
      ],
      "execution_count": null,
      "outputs": []
    },
    {
      "cell_type": "markdown",
      "metadata": {
        "id": "AcbFW-EEiVXK"
      },
      "source": [
        "# Test"
      ]
    },
    {
      "cell_type": "code",
      "metadata": {
        "id": "H0A2SPu4iWQo"
      },
      "source": [
        "def test(net, dataloader, c):\n",
        "    result = {\n",
        "        'exact_match': 0,\n",
        "        'total': 0\n",
        "    }\n",
        "    if c == 'age':\n",
        "        result['one_off_match'] = 0\n",
        "\n",
        "    with torch.no_grad():\n",
        "        net.eval()\n",
        "        for i, batch in enumerate(dataloader):\n",
        "            images, labels = batch['image'].to(device), batch['label'].to(device)\n",
        "            outputs = net(images)\n",
        "            outputs = torch.tensor(list(map(lambda x: torch.max(x, 0)[1], outputs))).to(device)\n",
        "            result['total'] += len(outputs)\n",
        "            result['exact_match'] += sum(outputs == labels).item()\n",
        "            if c == 'age':\n",
        "                result['one_off_match'] += (sum(outputs==labels) +\n",
        "                                            sum(outputs==labels-1) +\n",
        "                                            sum(outputs==labels+1)).item()\n",
        "\n",
        "    return result"
      ],
      "execution_count": null,
      "outputs": []
    },
    {
      "cell_type": "markdown",
      "metadata": {
        "id": "iSFllWKUiZTe"
      },
      "source": [
        "# Save the model"
      ]
    },
    {
      "cell_type": "code",
      "metadata": {
        "id": "6cdTHK1diarm"
      },
      "source": [
        "def save_network(net, filename):\n",
        "    torch.save(net.state_dict(), f'{PATH_TO_MODELS}/{filename}.pt')"
      ],
      "execution_count": null,
      "outputs": []
    },
    {
      "cell_type": "markdown",
      "metadata": {
        "id": "Cvevcz1njSko"
      },
      "source": [
        "# Execution"
      ]
    },
    {
      "cell_type": "code",
      "metadata": {
        "id": "kAJIdmO3jQTk"
      },
      "source": [
        "def train_save(c, fold, train_transform_index, checkpoint_frequency=50):\n",
        "    \"\"\"\n",
        "    Args:\n",
        "        c: A string. Equals either \"age\" or \"gender\".\n",
        "        fold: An integer. Lies in the range [0, 4] as there are five folds present.\n",
        "        train_transform_index: An integer. The transforms in the list correesponding\n",
        "            to this index in the dictionary will be applied on the images.\n",
        "        checkpoint_frequency: An integer. Represents how frequent (in terms\n",
        "            of number of iterations) the model should be saved to drive.   \n",
        "    Returns:\n",
        "        validation_loss: A list of numbers that represents the validation loss at each checkpoint.\n",
        "    \"\"\"\n",
        "    trained_net, training_loss, validation_loss = train(\n",
        "        Net().to(device),\n",
        "        get_dataloader('train', c, fold, train_transform_index, minibatch_size),\n",
        "        num_epochs,\n",
        "        f'{fold}_{c}_train_{train_transform_index}',\n",
        "        checkpoint_frequency,\n",
        "        get_dataloader('val', c, fold, 0, minibatch_size)\n",
        "    )\n",
        "    \n",
        "    plt.plot(list(map(lambda x: checkpoint_frequency * x, (list(range(1, len(validation_loss)+1))))), validation_loss, label='validation_loss')\n",
        "    plt.plot(list(map(lambda x: checkpoint_frequency * x, (list(range(1, len(training_loss)+1))))), training_loss, label='training_loss')\n",
        "    plt.legend(bbox_to_anchor=(0., 1.02, 1., .102), loc=3, ncol=2, mode=\"expand\", borderaxespad=0.)\n",
        "    plt.xlabel('iterations')\n",
        "    plt.ylabel('loss')\n",
        "    plt.show()\n",
        "    \n",
        "    choose_model_with_least_val_error(c, fold, train_transform_index, validation_loss)\n",
        "    \n",
        "    return validation_loss\n"
      ],
      "execution_count": null,
      "outputs": []
    },
    {
      "cell_type": "code",
      "metadata": {
        "id": "MY57C7y0jR3s"
      },
      "source": [
        "def choose_model_with_least_val_error(c, fold, train_transform_index, validation_loss):\n",
        "    index = validation_loss.index(min(validation_loss))\n",
        "    filename = f'{fold}_{c}_train_{train_transform_index}'\n",
        "    for file in os.listdir(PATH_TO_MODELS):\n",
        "        if file.startswith(filename):\n",
        "            if file.startswith(f'{filename}_checkpoint{index}'):\n",
        "                pass\n",
        "            else:\n",
        "                os.remove(f'{PATH_TO_MODELS}/{file}')\n"
      ],
      "execution_count": null,
      "outputs": []
    },
    {
      "cell_type": "code",
      "metadata": {
        "id": "f2mwvGtNjVgo"
      },
      "source": [
        "def pick_best_model(c):\n",
        "    \"\"\"\n",
        "    Args:\n",
        "        s: A string. Equals either \"train\", \"val\", or \"test\".\n",
        "        c: A string. Equals either \"age\" or \"gender\".\n",
        "    \"\"\"\n",
        "    def fn_filter(file):\n",
        "        file_split = file.split('_')\n",
        "        return True if (len(file_split) == 5 and file_split[1] == c) else False\n",
        "    \n",
        "    def fn_map(file):\n",
        "        file_split = file.split('_')\n",
        "        return get_validation_error(c, file_split[0], file_split[3])\n",
        "    \n",
        "    files = list(filter(fn_filter, os.listdir(PATH_TO_MODELS)))\n",
        "    val_errors = list(map(fn_map, files))\n",
        "    min_val_error, file = min(zip(val_errors, files))\n",
        "    best_model = f'{PATH_TO_MODELS}/{file.split(\".\")[0]}_best.pt'\n",
        "    copyfile(f'{PATH_TO_MODELS}/{file}', best_model)\n",
        "    \n",
        "    print(f'Picking {best_model} as the best model for {c}...')\n"
      ],
      "execution_count": null,
      "outputs": []
    },
    {
      "cell_type": "markdown",
      "metadata": {
        "id": "nvks4fw2jXTo"
      },
      "source": [
        "# Performance and Accuracy"
      ]
    },
    {
      "cell_type": "code",
      "metadata": {
        "id": "RrJoIcdejZcA"
      },
      "source": [
        "def get_performance(c):\n",
        "    \"\"\"\n",
        "    Args:\n",
        "        c: A string. Equals either \"age\" or \"gender\".\n",
        "    Returns:\n",
        "        A dictionary containing accuracy (and one-off accuracy for age) of the model.\n",
        "    \"\"\"    \n",
        "    file = get_best_model_filename(c).split('_')\n",
        "    return get_performance_of_a_model('test', file[1], file[0], file[3])\n"
      ],
      "execution_count": null,
      "outputs": []
    },
    {
      "cell_type": "code",
      "metadata": {
        "id": "L07j_wvijavC"
      },
      "source": [
        "def get_best_model_filename(c):\n",
        "    def fn_filter(file):\n",
        "        file_split = file.split('_')\n",
        "        return True if (len(file_split) == 6 and file_split[1] == c) else False\n",
        "    \n",
        "    return list(filter(fn_filter, os.listdir(PATH_TO_MODELS)))[0]\n"
      ],
      "execution_count": null,
      "outputs": []
    },
    {
      "cell_type": "code",
      "metadata": {
        "id": "Y7aDL1v9jcSb"
      },
      "source": [
        "def get_performance_of_a_model(s, c, fold, train_transform_index):\n",
        "    filename = get_model_filename(c, fold, train_transform_index)\n",
        "    net = Net().to(device)\n",
        "    net.load_state_dict(torch.load(f'{PATH_TO_MODELS}/{filename}'))\n",
        "    performance = test(\n",
        "        net,\n",
        "        get_dataloader(s, c, fold, 0, minibatch_size),\n",
        "        c\n",
        "    )\n",
        "    if c == 'age':\n",
        "        return {\n",
        "            'accuracy': performance['exact_match']/performance['total'],\n",
        "            'one-off accuracy': performance['one_off_match']/performance['total']\n",
        "        }\n",
        "    elif c == 'gender':\n",
        "        return {\n",
        "            'accuracy': performance['exact_match']/performance['total']\n",
        "        }"
      ],
      "execution_count": null,
      "outputs": []
    },
    {
      "cell_type": "code",
      "metadata": {
        "id": "SAXy2qRBjdoe"
      },
      "source": [
        "def get_model_filename(c, fold, train_transform_index):\n",
        "    start_of_filename = f'{fold}_{c}_train_{train_transform_index}_checkpoint'\n",
        "    for file in os.listdir(PATH_TO_MODELS):\n",
        "        if file.startswith(start_of_filename):\n",
        "            return file"
      ],
      "execution_count": null,
      "outputs": []
    },
    {
      "cell_type": "markdown",
      "metadata": {
        "id": "wlnYxYOJj3aB"
      },
      "source": [
        "# Job"
      ]
    },
    {
      "cell_type": "code",
      "metadata": {
        "id": "TwIzaCP-j4UR",
        "colab": {
          "base_uri": "https://localhost:8080/",
          "height": 1000
        },
        "outputId": "d970d147-23d9-4925-8d48-0aff66049f5f"
      },
      "source": [
        "val_loss = train_save(my_type, my_fold, 2)"
      ],
      "execution_count": null,
      "outputs": [
        {
          "output_type": "stream",
          "name": "stdout",
          "text": [
            "minibatch:49, epoch:0, iteration:49, training_error:2.195938482284546, validation_error:2.1222604604867787\n",
            "minibatch:99, epoch:0, iteration:99, training_error:2.104954342842102, validation_error:2.100322750898508\n",
            "minibatch:149, epoch:0, iteration:149, training_error:2.1054009103775027, validation_error:2.0978881487479577\n",
            "minibatch:199, epoch:0, iteration:199, training_error:2.0951499128341675, validation_error:2.083191156387329\n",
            "minibatch:249, epoch:0, iteration:249, training_error:2.1011373472213744, validation_error:2.077675177500798\n",
            "minibatch:299, epoch:0, iteration:299, training_error:2.088511052131653, validation_error:2.0954598096700816\n",
            "minibatch:349, epoch:0, iteration:349, training_error:2.0909236431121827, validation_error:2.091859193948599\n",
            "minibatch:399, epoch:0, iteration:399, training_error:2.0915154886245726, validation_error:2.0805088923527646\n",
            "minibatch:449, epoch:0, iteration:449, training_error:2.0887950897216796, validation_error:2.068839064011207\n",
            "minibatch:11, epoch:1, iteration:499, training_error:2.0855503416061403, validation_error:2.077556775166438\n",
            "minibatch:61, epoch:1, iteration:549, training_error:2.08772358417511, validation_error:2.081287008065444\n",
            "minibatch:111, epoch:1, iteration:599, training_error:2.0859189367294313, validation_error:2.0798369554372935\n",
            "minibatch:161, epoch:1, iteration:649, training_error:2.085486454963684, validation_error:2.0670505945499125\n",
            "minibatch:211, epoch:1, iteration:699, training_error:2.0813285160064696, validation_error:2.0547941464644213\n",
            "minibatch:261, epoch:1, iteration:749, training_error:2.062540216445923, validation_error:2.031362157601577\n",
            "minibatch:311, epoch:1, iteration:799, training_error:2.0164023637771606, validation_error:2.027265865069169\n",
            "minibatch:361, epoch:1, iteration:849, training_error:1.9929476141929627, validation_error:2.0067942921931925\n",
            "minibatch:411, epoch:1, iteration:899, training_error:1.965146563053131, validation_error:1.9863307980390696\n",
            "minibatch:461, epoch:1, iteration:949, training_error:1.9499787235260009, validation_error:2.0105643547498264\n",
            "minibatch:23, epoch:2, iteration:999, training_error:1.9281287145614625, validation_error:1.9502190947532654\n",
            "minibatch:73, epoch:2, iteration:1049, training_error:1.9184258484840393, validation_error:1.9989078411689172\n",
            "minibatch:123, epoch:2, iteration:1099, training_error:1.8398615741729736, validation_error:1.9142428957498991\n",
            "minibatch:173, epoch:2, iteration:1149, training_error:1.8099674987792969, validation_error:1.842538214646853\n",
            "minibatch:223, epoch:2, iteration:1199, training_error:1.7395349621772767, validation_error:1.8976891728547902\n",
            "minibatch:273, epoch:2, iteration:1249, training_error:1.7369450402259827, validation_error:1.8121605148682227\n",
            "minibatch:323, epoch:2, iteration:1299, training_error:1.7155704498291016, validation_error:1.757250006382282\n",
            "minibatch:373, epoch:2, iteration:1349, training_error:1.6751813387870789, validation_error:1.8216838332322927\n",
            "minibatch:423, epoch:2, iteration:1399, training_error:1.666372845172882, validation_error:1.7270337297366216\n",
            "minibatch:473, epoch:2, iteration:1449, training_error:1.6164901208877565, validation_error:1.6963053666628325\n",
            "minibatch:35, epoch:3, iteration:1499, training_error:1.6061577343940734, validation_error:1.6661051236666167\n",
            "minibatch:85, epoch:3, iteration:1549, training_error:1.5801393675804138, validation_error:1.7051871464802668\n",
            "minibatch:135, epoch:3, iteration:1599, training_error:1.5402411031723022, validation_error:1.7433989368952238\n",
            "minibatch:185, epoch:3, iteration:1649, training_error:1.5278358578681945, validation_error:1.7306684438998883\n",
            "minibatch:235, epoch:3, iteration:1699, training_error:1.4667485404014586, validation_error:1.635620612364549\n",
            "minibatch:285, epoch:3, iteration:1749, training_error:1.4786482906341554, validation_error:1.7481659650802612\n",
            "minibatch:335, epoch:3, iteration:1799, training_error:1.4594912815093994, validation_error:1.6117055645355811\n",
            "minibatch:385, epoch:3, iteration:1849, training_error:1.4526468515396118, validation_error:1.6126827460068922\n",
            "minibatch:435, epoch:3, iteration:1899, training_error:1.4225513792037965, validation_error:1.6650823263021617\n",
            "minibatch:485, epoch:3, iteration:1949, training_error:1.380394480228424, validation_error:1.6004302180730379\n",
            "minibatch:47, epoch:4, iteration:1999, training_error:1.398039197921753, validation_error:1.7038294076919556\n",
            "minibatch:97, epoch:4, iteration:2049, training_error:1.3673466444015503, validation_error:1.6183619132408729\n",
            "minibatch:147, epoch:4, iteration:2099, training_error:1.3529301595687866, validation_error:1.6601351591256948\n",
            "minibatch:197, epoch:4, iteration:2149, training_error:1.3590838897228241, validation_error:1.6517084699410658\n",
            "minibatch:247, epoch:4, iteration:2199, training_error:1.3190419030189515, validation_error:1.6342976597639232\n",
            "minibatch:297, epoch:4, iteration:2249, training_error:1.3184153354167938, validation_error:1.59339774113435\n",
            "minibatch:347, epoch:4, iteration:2299, training_error:1.3131482362747193, validation_error:1.6066318612832289\n",
            "minibatch:397, epoch:4, iteration:2349, training_error:1.2784158062934876, validation_error:1.5639949257557209\n",
            "minibatch:447, epoch:4, iteration:2399, training_error:1.278656210899353, validation_error:1.5916557495410626\n",
            "minibatch:9, epoch:5, iteration:2449, training_error:1.2787928473949433, validation_error:1.5651348875119135\n",
            "minibatch:59, epoch:5, iteration:2499, training_error:1.2842343640327454, validation_error:1.6149529356222887\n",
            "minibatch:109, epoch:5, iteration:2549, training_error:1.248844428062439, validation_error:1.5861828877375677\n",
            "minibatch:159, epoch:5, iteration:2599, training_error:1.2028935468196869, validation_error:1.6708941459655762\n",
            "minibatch:209, epoch:5, iteration:2649, training_error:1.1656570255756378, validation_error:1.6282487649184008\n",
            "minibatch:259, epoch:5, iteration:2699, training_error:1.2228167724609376, validation_error:1.6301751732826233\n",
            "minibatch:309, epoch:5, iteration:2749, training_error:1.2335274720191955, validation_error:1.590015090428866\n",
            "minibatch:359, epoch:5, iteration:2799, training_error:1.192695562839508, validation_error:1.7162569027680616\n",
            "minibatch:409, epoch:5, iteration:2849, training_error:1.185097609758377, validation_error:1.5696142315864563\n",
            "minibatch:459, epoch:5, iteration:2899, training_error:1.1900033998489379, validation_error:1.5826134773401113\n",
            "minibatch:21, epoch:6, iteration:2949, training_error:1.178298101425171, validation_error:1.57028656739455\n",
            "minibatch:71, epoch:6, iteration:2999, training_error:1.183704242706299, validation_error:1.6252720722785363\n",
            "minibatch:121, epoch:6, iteration:3049, training_error:1.1595998752117156, validation_error:1.6255753361261809\n",
            "minibatch:171, epoch:6, iteration:3099, training_error:1.1436438417434693, validation_error:1.5619761989666865\n",
            "minibatch:221, epoch:6, iteration:3149, training_error:1.1660036993026734, validation_error:1.6292433738708496\n",
            "minibatch:271, epoch:6, iteration:3199, training_error:1.102084127664566, validation_error:1.602653980255127\n",
            "minibatch:321, epoch:6, iteration:3249, training_error:1.0933357763290406, validation_error:1.6101263394722571\n",
            "minibatch:371, epoch:6, iteration:3299, training_error:1.1192129743099213, validation_error:1.5434115941707904\n",
            "minibatch:421, epoch:6, iteration:3349, training_error:1.0998708736896514, validation_error:1.5962288746467004\n",
            "minibatch:471, epoch:6, iteration:3399, training_error:1.1178908801078797, validation_error:1.5441521268624525\n",
            "minibatch:33, epoch:7, iteration:3449, training_error:1.0841879999637605, validation_error:1.500425934791565\n",
            "minibatch:83, epoch:7, iteration:3499, training_error:1.0717312037944793, validation_error:1.5440934942318842\n",
            "minibatch:133, epoch:7, iteration:3549, training_error:1.055201812982559, validation_error:1.5501674734629118\n",
            "minibatch:183, epoch:7, iteration:3599, training_error:1.0555976939201355, validation_error:1.6309875937608571\n",
            "minibatch:233, epoch:7, iteration:3649, training_error:1.1282432138919831, validation_error:1.5519041235630329\n",
            "minibatch:283, epoch:7, iteration:3699, training_error:1.0586697030067445, validation_error:1.5108631986838121\n",
            "minibatch:333, epoch:7, iteration:3749, training_error:1.0326462173461914, validation_error:1.569487805549915\n",
            "minibatch:383, epoch:7, iteration:3799, training_error:1.0051921021938324, validation_error:1.5130467323156505\n",
            "minibatch:433, epoch:7, iteration:3849, training_error:1.0771875476837158, validation_error:1.5036209088105421\n",
            "minibatch:483, epoch:7, iteration:3899, training_error:1.030542060136795, validation_error:1.5701473355293274\n",
            "minibatch:45, epoch:8, iteration:3949, training_error:0.9787868344783783, validation_error:1.5959256749886732\n",
            "minibatch:95, epoch:8, iteration:3999, training_error:1.0005076622962952, validation_error:1.5124620611851032\n",
            "minibatch:145, epoch:8, iteration:4049, training_error:1.0031343853473664, validation_error:1.5034925020658052\n",
            "minibatch:195, epoch:8, iteration:4099, training_error:0.9674328434467315, validation_error:1.522884799883916\n",
            "minibatch:245, epoch:8, iteration:4149, training_error:0.9626220214366913, validation_error:1.4971175560584435\n",
            "minibatch:295, epoch:8, iteration:4199, training_error:1.0232643759250641, validation_error:1.5385033671672528\n",
            "minibatch:345, epoch:8, iteration:4249, training_error:0.9600406301021576, validation_error:1.5024001919306242\n",
            "minibatch:395, epoch:8, iteration:4299, training_error:0.9819075548648835, validation_error:1.532494251544659\n",
            "minibatch:445, epoch:8, iteration:4349, training_error:0.9844133496284485, validation_error:1.5298747145212614\n",
            "minibatch:7, epoch:9, iteration:4399, training_error:0.9615827715396881, validation_error:1.4873869602496808\n",
            "minibatch:57, epoch:9, iteration:4449, training_error:0.9450582206249237, validation_error:1.5352506683422968\n",
            "minibatch:107, epoch:9, iteration:4499, training_error:0.9964791214466096, validation_error:1.567691683769226\n",
            "minibatch:157, epoch:9, iteration:4549, training_error:0.9291364133358002, validation_error:1.5322129863959093\n",
            "minibatch:207, epoch:9, iteration:4599, training_error:0.9536428034305573, validation_error:1.4771376114625197\n",
            "minibatch:257, epoch:9, iteration:4649, training_error:0.9339254748821259, validation_error:1.5984887985082774\n",
            "minibatch:307, epoch:9, iteration:4699, training_error:0.947524198293686, validation_error:1.5272134313216577\n",
            "minibatch:357, epoch:9, iteration:4749, training_error:0.9116104447841644, validation_error:1.5626342709247882\n",
            "minibatch:407, epoch:9, iteration:4799, training_error:0.9302197694778442, validation_error:1.4518134410564716\n",
            "minibatch:457, epoch:9, iteration:4849, training_error:0.9041566658020019, validation_error:1.4693867151553814\n",
            "minibatch:19, epoch:10, iteration:4899, training_error:0.857545462846756, validation_error:1.525020915728349\n",
            "minibatch:69, epoch:10, iteration:4949, training_error:0.9123248147964478, validation_error:1.4506450662246118\n",
            "minibatch:119, epoch:10, iteration:4999, training_error:0.9132056009769439, validation_error:1.514844766029945\n",
            "minibatch:169, epoch:10, iteration:5049, training_error:0.8855897045135498, validation_error:1.4566152462592492\n",
            "minibatch:219, epoch:10, iteration:5099, training_error:0.8678707039356232, validation_error:1.501590880063864\n",
            "minibatch:269, epoch:10, iteration:5149, training_error:0.860929239988327, validation_error:1.531709455526792\n",
            "minibatch:319, epoch:10, iteration:5199, training_error:0.8728118193149567, validation_error:1.5408767782724822\n",
            "minibatch:369, epoch:10, iteration:5249, training_error:0.9009457755088807, validation_error:1.4394258214877202\n",
            "minibatch:419, epoch:10, iteration:5299, training_error:0.8601866924762726, validation_error:1.445032761647151\n",
            "minibatch:469, epoch:10, iteration:5349, training_error:0.873894225358963, validation_error:1.4790467711595388\n",
            "minibatch:31, epoch:11, iteration:5399, training_error:0.8493605995178223, validation_error:1.534548255113455\n",
            "minibatch:81, epoch:11, iteration:5449, training_error:0.9005144715309144, validation_error:1.461393273793734\n",
            "minibatch:131, epoch:11, iteration:5499, training_error:0.8546354532241821, validation_error:1.4637116698118358\n",
            "minibatch:181, epoch:11, iteration:5549, training_error:0.8122523152828216, validation_error:1.4505588091336763\n",
            "minibatch:231, epoch:11, iteration:5599, training_error:0.8271161878108978, validation_error:1.4652753564027639\n",
            "minibatch:281, epoch:11, iteration:5649, training_error:0.8621868801116943, validation_error:1.4256822879497821\n",
            "minibatch:331, epoch:11, iteration:5699, training_error:0.8286387288570404, validation_error:1.4052997048084552\n",
            "minibatch:381, epoch:11, iteration:5749, training_error:0.8186875325441361, validation_error:1.4214000426805937\n",
            "minibatch:431, epoch:11, iteration:5799, training_error:0.8389566218852997, validation_error:1.5056310571157014\n",
            "minibatch:481, epoch:11, iteration:5849, training_error:0.8188226306438446, validation_error:1.4312871877963727\n",
            "minibatch:43, epoch:12, iteration:5899, training_error:0.8076398831605911, validation_error:1.4657877408541167\n",
            "minibatch:93, epoch:12, iteration:5949, training_error:0.7932855331897736, validation_error:1.4525014116213872\n",
            "minibatch:143, epoch:12, iteration:5999, training_error:0.788597559928894, validation_error:1.4533589757405794\n",
            "minibatch:193, epoch:12, iteration:6049, training_error:0.7986227560043335, validation_error:1.4325267580839305\n",
            "minibatch:243, epoch:12, iteration:6099, training_error:0.8137861454486847, validation_error:1.5020132339917696\n",
            "minibatch:293, epoch:12, iteration:6149, training_error:0.8049497854709625, validation_error:1.433709068940236\n",
            "minibatch:343, epoch:12, iteration:6199, training_error:0.8186453515291214, validation_error:1.3894776105880737\n",
            "minibatch:393, epoch:12, iteration:6249, training_error:0.785633260011673, validation_error:1.4150806069374084\n",
            "minibatch:443, epoch:12, iteration:6299, training_error:0.7865346431732178, validation_error:1.4264906919919527\n",
            "minibatch:5, epoch:13, iteration:6349, training_error:0.8098198366165161, validation_error:1.4109625082749586\n",
            "minibatch:55, epoch:13, iteration:6399, training_error:0.7794091421365738, validation_error:1.4557672784878657\n",
            "minibatch:105, epoch:13, iteration:6449, training_error:0.7583197051286698, validation_error:1.458587660239293\n",
            "minibatch:155, epoch:13, iteration:6499, training_error:0.7905110388994216, validation_error:1.4415983649400563\n",
            "minibatch:205, epoch:13, iteration:6549, training_error:0.7917771017551423, validation_error:1.4175800314316382\n",
            "minibatch:255, epoch:13, iteration:6599, training_error:0.7358702445030212, validation_error:1.4362706679564257\n",
            "minibatch:305, epoch:13, iteration:6649, training_error:0.7786083036661148, validation_error:1.3976163451488202\n",
            "minibatch:355, epoch:13, iteration:6699, training_error:0.7348574936389923, validation_error:1.4059357047080994\n",
            "minibatch:405, epoch:13, iteration:6749, training_error:0.7825854730606079, validation_error:1.3887495352671697\n",
            "minibatch:455, epoch:13, iteration:6799, training_error:0.7486050486564636, validation_error:1.4339388471383314\n",
            "minibatch:17, epoch:14, iteration:6849, training_error:0.7537999212741852, validation_error:1.387628958775447\n",
            "minibatch:67, epoch:14, iteration:6899, training_error:0.7109793198108673, validation_error:1.3881094180620634\n",
            "minibatch:117, epoch:14, iteration:6949, training_error:0.7572567576169967, validation_error:1.4154139619607191\n",
            "minibatch:167, epoch:14, iteration:6999, training_error:0.7065475690364837, validation_error:1.3889027146192698\n",
            "minibatch:217, epoch:14, iteration:7049, training_error:0.7341646385192871, validation_error:1.444619520352437\n",
            "minibatch:267, epoch:14, iteration:7099, training_error:0.7507992517948151, validation_error:1.389964997768402\n",
            "minibatch:317, epoch:14, iteration:7149, training_error:0.7581339257955552, validation_error:1.3933328573520367\n",
            "minibatch:367, epoch:14, iteration:7199, training_error:0.7327609241008759, validation_error:1.404683754994319\n",
            "minibatch:417, epoch:14, iteration:7249, training_error:0.7242714035511016, validation_error:1.3549092411994934\n",
            "minibatch:467, epoch:14, iteration:7299, training_error:0.7457965284585952, validation_error:1.3708801636329064\n",
            "minibatch:29, epoch:15, iteration:7349, training_error:0.7077399188280106, validation_error:1.4157114762526293\n",
            "minibatch:79, epoch:15, iteration:7399, training_error:0.7065675497055054, validation_error:1.3854133715996375\n",
            "minibatch:129, epoch:15, iteration:7449, training_error:0.7004151284694672, validation_error:1.3466903108816881\n",
            "minibatch:179, epoch:15, iteration:7499, training_error:0.6970294731855392, validation_error:1.3501126261857839\n",
            "minibatch:229, epoch:15, iteration:7549, training_error:0.6961129033565521, validation_error:1.4142521161299486\n",
            "minibatch:279, epoch:15, iteration:7599, training_error:0.7206064856052399, validation_error:1.3394137162428637\n",
            "minibatch:329, epoch:15, iteration:7649, training_error:0.7303031814098359, validation_error:1.3902883667212267\n",
            "minibatch:379, epoch:15, iteration:7699, training_error:0.7102675026655197, validation_error:1.4001296483553374\n",
            "minibatch:429, epoch:15, iteration:7749, training_error:0.6972035199403763, validation_error:1.3834901452064514\n",
            "minibatch:479, epoch:15, iteration:7799, training_error:0.7041463619470596, validation_error:1.3371449204591603\n",
            "minibatch:41, epoch:16, iteration:7849, training_error:0.6828988409042358, validation_error:1.3385774860015283\n",
            "minibatch:91, epoch:16, iteration:7899, training_error:0.6860278636217118, validation_error:1.295747873874811\n",
            "minibatch:141, epoch:16, iteration:7949, training_error:0.6684908562898636, validation_error:1.354877375639402\n",
            "minibatch:191, epoch:16, iteration:7999, training_error:0.6854180824756623, validation_error:1.3618026375770569\n",
            "minibatch:241, epoch:16, iteration:8049, training_error:0.6979111409187317, validation_error:1.3574165059969976\n",
            "minibatch:291, epoch:16, iteration:8099, training_error:0.6618632525205612, validation_error:1.426247775554657\n",
            "minibatch:341, epoch:16, iteration:8149, training_error:0.7043873637914657, validation_error:1.3519554367432227\n",
            "minibatch:391, epoch:16, iteration:8199, training_error:0.6792527842521667, validation_error:1.341307988533607\n",
            "minibatch:441, epoch:16, iteration:8249, training_error:0.6722592794895172, validation_error:1.3653437816179717\n",
            "minibatch:3, epoch:17, iteration:8299, training_error:0.6733836948871612, validation_error:1.3322033286094666\n",
            "minibatch:53, epoch:17, iteration:8349, training_error:0.6637270343303681, validation_error:1.3383611624057477\n",
            "minibatch:103, epoch:17, iteration:8399, training_error:0.6642558020353317, validation_error:1.393797828600957\n",
            "minibatch:153, epoch:17, iteration:8449, training_error:0.6987123662233352, validation_error:1.3224272613341992\n",
            "minibatch:203, epoch:17, iteration:8499, training_error:0.6608410978317261, validation_error:1.3752053769735189\n",
            "minibatch:253, epoch:17, iteration:8549, training_error:0.6338171553611756, validation_error:1.3647223733938658\n",
            "minibatch:303, epoch:17, iteration:8599, training_error:0.6602203613519668, validation_error:1.319540947675705\n",
            "minibatch:353, epoch:17, iteration:8649, training_error:0.6524500322341918, validation_error:1.351841967839461\n",
            "minibatch:403, epoch:17, iteration:8699, training_error:0.6362318539619446, validation_error:1.3891681524423451\n",
            "minibatch:453, epoch:17, iteration:8749, training_error:0.6646209996938706, validation_error:1.376000349338238\n",
            "minibatch:15, epoch:18, iteration:8799, training_error:0.657662119269371, validation_error:1.3595011784480169\n",
            "minibatch:65, epoch:18, iteration:8849, training_error:0.6522007602453231, validation_error:1.3019375388438885\n",
            "minibatch:115, epoch:18, iteration:8899, training_error:0.6600223672389984, validation_error:1.3493612179389367\n",
            "minibatch:165, epoch:18, iteration:8949, training_error:0.6309539270401001, validation_error:1.2871553095487447\n",
            "minibatch:215, epoch:18, iteration:8999, training_error:0.6497403138875961, validation_error:1.2701032436811006\n",
            "minibatch:265, epoch:18, iteration:9049, training_error:0.6664832305908203, validation_error:1.3267588042295897\n",
            "minibatch:315, epoch:18, iteration:9099, training_error:0.6307751905918121, validation_error:1.2875438561806312\n",
            "minibatch:365, epoch:18, iteration:9149, training_error:0.6226982063055039, validation_error:1.3401564634763277\n",
            "minibatch:415, epoch:18, iteration:9199, training_error:0.6461000603437423, validation_error:1.3297344996378972\n",
            "minibatch:465, epoch:18, iteration:9249, training_error:0.6122509568929673, validation_error:1.3255225190749536\n",
            "minibatch:27, epoch:19, iteration:9299, training_error:0.6367150104045868, validation_error:1.378843633028177\n",
            "minibatch:77, epoch:19, iteration:9349, training_error:0.5771306735277176, validation_error:1.3444729493214533\n",
            "minibatch:127, epoch:19, iteration:9399, training_error:0.6175191974639893, validation_error:1.3494867178109975\n",
            "minibatch:177, epoch:19, iteration:9449, training_error:0.60537014067173, validation_error:1.3166126425449665\n",
            "minibatch:227, epoch:19, iteration:9499, training_error:0.5978822600841522, validation_error:1.2803460955619812\n",
            "minibatch:277, epoch:19, iteration:9549, training_error:0.5901189517974853, validation_error:1.3131551238206716\n",
            "minibatch:327, epoch:19, iteration:9599, training_error:0.5899996531009674, validation_error:1.2991994665219233\n",
            "minibatch:377, epoch:19, iteration:9649, training_error:0.6063285499811173, validation_error:1.3126480785699992\n",
            "minibatch:427, epoch:19, iteration:9699, training_error:0.6310709476470947, validation_error:1.3309647280436296\n",
            "minibatch:477, epoch:19, iteration:9749, training_error:0.6487143445014953, validation_error:1.3223351194308355\n"
          ]
        },
        {
          "output_type": "display_data",
          "data": {
            "image/png": "[encoded data removed]",
            "text/plain": [
              "<Figure size 432x288 with 1 Axes>"
            ]
          },
          "metadata": {
            "needs_background": "light"
          }
        }
      ]
    },
    {
      "cell_type": "code",
      "metadata": {
        "id": "B5PjgSSLj-_I",
        "colab": {
          "base_uri": "https://localhost:8080/"
        },
        "outputId": "e7541c32-f68f-4103-a01a-dc18656c1877"
      },
      "source": [
        "pick_best_model(my_type)"
      ],
      "execution_count": null,
      "outputs": [
        {
          "output_type": "stream",
          "name": "stdout",
          "text": [
            "Picking /content/ds/models//11_age_train_2_checkpoint179_best.pt as the best model for age...\n"
          ]
        }
      ]
    },
    {
      "cell_type": "code",
      "metadata": {
        "id": "taDxTm0Yk78p",
        "colab": {
          "base_uri": "https://localhost:8080/"
        },
        "outputId": "1856bb7f-7aaa-4531-cece-8e82d181b33c"
      },
      "source": [
        "get_performance(my_type)"
      ],
      "execution_count": null,
      "outputs": [
        {
          "output_type": "execute_result",
          "data": {
            "text/plain": [
              "{'accuracy': 0.47659870250231695, 'one-off accuracy': 0.7680722891566265}"
            ]
          },
          "metadata": {},
          "execution_count": 28
        }
      ]
    },
    {
      "cell_type": "code",
      "metadata": {
        "id": "OSAvb5NztYYJ",
        "colab": {
          "base_uri": "https://localhost:8080/"
        },
        "outputId": "f9e5fead-39f8-4b2e-84f1-63d6bdcb2e9b"
      },
      "source": [
        "sprint(val_loss)"
      ],
      "execution_count": null,
      "outputs": [
        {
          "output_type": "stream",
          "name": "stdout",
          "text": [
            "[2.1222604604867787, 2.100322750898508, 2.0978881487479577, 2.083191156387329, 2.077675177500798, 2.0954598096700816, 2.091859193948599, 2.0805088923527646, 2.068839064011207, 2.077556775166438, 2.081287008065444, 2.0798369554372935, 2.0670505945499125, 2.0547941464644213, 2.031362157601577, 2.027265865069169, 2.0067942921931925, 1.9863307980390696, 2.0105643547498264, 1.9502190947532654, 1.9989078411689172, 1.9142428957498991, 1.842538214646853, 1.8976891728547902, 1.8121605148682227, 1.757250006382282, 1.8216838332322927, 1.7270337297366216, 1.6963053666628325, 1.6661051236666167, 1.7051871464802668, 1.7433989368952238, 1.7306684438998883, 1.635620612364549, 1.7481659650802612, 1.6117055645355811, 1.6126827460068922, 1.6650823263021617, 1.6004302180730379, 1.7038294076919556, 1.6183619132408729, 1.6601351591256948, 1.6517084699410658, 1.6342976597639232, 1.59339774113435, 1.6066318612832289, 1.5639949257557209, 1.5916557495410626, 1.5651348875119135, 1.6149529356222887, 1.5861828877375677, 1.6708941459655762, 1.6282487649184008, 1.6301751732826233, 1.590015090428866, 1.7162569027680616, 1.5696142315864563, 1.5826134773401113, 1.57028656739455, 1.6252720722785363, 1.6255753361261809, 1.5619761989666865, 1.6292433738708496, 1.602653980255127, 1.6101263394722571, 1.5434115941707904, 1.5962288746467004, 1.5441521268624525, 1.500425934791565, 1.5440934942318842, 1.5501674734629118, 1.6309875937608571, 1.5519041235630329, 1.5108631986838121, 1.569487805549915, 1.5130467323156505, 1.5036209088105421, 1.5701473355293274, 1.5959256749886732, 1.5124620611851032, 1.5034925020658052, 1.522884799883916, 1.4971175560584435, 1.5385033671672528, 1.5024001919306242, 1.532494251544659, 1.5298747145212614, 1.4873869602496808, 1.5352506683422968, 1.567691683769226, 1.5322129863959093, 1.4771376114625197, 1.5984887985082774, 1.5272134313216577, 1.5626342709247882, 1.4518134410564716, 1.4693867151553814, 1.525020915728349, 1.4506450662246118, 1.514844766029945, 1.4566152462592492, 1.501590880063864, 1.531709455526792, 1.5408767782724822, 1.4394258214877202, 1.445032761647151, 1.4790467711595388, 1.534548255113455, 1.461393273793734, 1.4637116698118358, 1.4505588091336763, 1.4652753564027639, 1.4256822879497821, 1.4052997048084552, 1.4214000426805937, 1.5056310571157014, 1.4312871877963727, 1.4657877408541167, 1.4525014116213872, 1.4533589757405794, 1.4325267580839305, 1.5020132339917696, 1.433709068940236, 1.3894776105880737, 1.4150806069374084, 1.4264906919919527, 1.4109625082749586, 1.4557672784878657, 1.458587660239293, 1.4415983649400563, 1.4175800314316382, 1.4362706679564257, 1.3976163451488202, 1.4059357047080994, 1.3887495352671697, 1.4339388471383314, 1.387628958775447, 1.3881094180620634, 1.4154139619607191, 1.3889027146192698, 1.444619520352437, 1.389964997768402, 1.3933328573520367, 1.404683754994319, 1.3549092411994934, 1.3708801636329064, 1.4157114762526293, 1.3854133715996375, 1.3466903108816881, 1.3501126261857839, 1.4142521161299486, 1.3394137162428637, 1.3902883667212267, 1.4001296483553374, 1.3834901452064514, 1.3371449204591603, 1.3385774860015283, 1.295747873874811, 1.354877375639402, 1.3618026375770569, 1.3574165059969976, 1.426247775554657, 1.3519554367432227, 1.341307988533607, 1.3653437816179717, 1.3322033286094666, 1.3383611624057477, 1.393797828600957, 1.3224272613341992, 1.3752053769735189, 1.3647223733938658, 1.319540947675705, 1.351841967839461, 1.3891681524423451, 1.376000349338238, 1.3595011784480169, 1.3019375388438885, 1.3493612179389367, 1.2871553095487447, 1.2701032436811006, 1.3267588042295897, 1.2875438561806312, 1.3401564634763277, 1.3297344996378972, 1.3255225190749536, 1.378843633028177, 1.3444729493214533, 1.3494867178109975, 1.3166126425449665, 1.2803460955619812, 1.3131551238206716, 1.2991994665219233, 1.3126480785699992, 1.3309647280436296, 1.3223351194308355]\n"
          ]
        }
      ]
    }
  ]
}